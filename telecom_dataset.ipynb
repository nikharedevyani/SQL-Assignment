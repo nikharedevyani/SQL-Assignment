{
 "cells": [
  {
   "cell_type": "code",
   "execution_count": 2,
   "id": "efba913c",
   "metadata": {},
   "outputs": [],
   "source": [
    "import numpy as np\n",
    "import pandas as pd\n",
    "import random\n",
    "import string\n",
    "from datetime import datetime, timedelta"
   ]
  },
  {
   "cell_type": "code",
   "execution_count": 4,
   "id": "0da14941-1987-4106-b058-9b2858b3543d",
   "metadata": {},
   "outputs": [],
   "source": [
    "# Number of records\n",
    "n_users = 1000\n",
    "n_usage = 1200\n",
    "n_bills = 1000\n",
    "\n",
    "\n",
    "# Predefined lists for realistic data\n",
    "cities_list = ['London', 'Manchester', 'Birmingham', 'Leeds', 'Glasgow', 'Liverpool', 'Newcastle', 'Sheffield', 'York',\n",
    "               'Liverpool', 'Bradford', 'Coventry', 'Norwich', 'Oxford', 'Chester']\n",
    "\n",
    "subscription_plans = ['Basic', 'Standard', 'Premium']\n",
    "subscription_weights = [0.4, 0.4, 0.2]\n",
    "payment_methods_list = ['Credit Card', 'PayPal', 'Bank Transfer']\n",
    "payment_status_list = ['Paid', 'Pending', 'Overdue']\n",
    "\n",
    "plan_features = [\"Limited Calls, No Roaming\", \"Unlimited Calls, Some Roaming\", \"Unlimited Everything\"]\n",
    "plan_details = {\n",
    "    \"Basic\": {\"monthly_cost\": 9.99, \"data_limit_GB\": 10, \"speed_mbps\": 20, \"contract_length_months\": 12},\n",
    "    \"Standard\": {\"monthly_cost\": 19.99, \"data_limit_GB\": 50, \"speed_mbps\": 50, \"contract_length_months\": 18},\n",
    "    \"Premium\": {\"monthly_cost\": 29.99, \"data_limit_GB\": 100, \"speed_mbps\": 100, \"contract_length_months\": 24}\n",
    "}\n",
    "\n",
    "# Generating Names\n",
    "first_names = [\"Alice\", \"Bob\", \"Charlie\", \"David\", \"Emma\", \"Fiona\", \"George\", \"Hannah\", \"Isaac\", \"Jack\",\n",
    "                \"Marina\",\"Josh\",\"Yogi\",\"Devi\",\"Paul\",\"Tina\",\"Thomas\",\"Sabrina\",\"Anand\",\"Anku\"]\n",
    "last_names = [\"Smith\", \"Johnson\", \"Brown\", \"Taylor\", \"Anderson\", \"Thomas\", \"Jackson\", \"White\", \"Harris\", \"Martin\",\n",
    "             \"Pandit\",\"Rathod\",\"Grey\",\"Swift\",\"Hanson\",\"Raj\",\"Sesmic\",\"Ray\",\"Deo\",\"Patel\"]\n",
    "names_data = [f\"{random.choice(first_names)} {random.choice(last_names)}\" for _ in range(n_users)]\n"
   ]
  },
  {
   "cell_type": "code",
   "execution_count": 6,
   "id": "56422c5f-c572-4437-a791-e92ff23754bd",
   "metadata": {},
   "outputs": [],
   "source": [
    "# Generate Random Dates for 2023\n",
    "def random_date_2023():\n",
    "    start_date = datetime(2023, 1, 1)\n",
    "    end_date = datetime(2023, 12, 31)\n",
    "    return (start_date + timedelta(days=random.randint(0, 364))).strftime(\"%Y-%m-%d\")\n",
    "\n",
    "# Generate Random Email\n",
    "def random_email(name):\n",
    "    domains = [\"gmail.com\", \"yahoo.com\", \"hotmail.com\", \"outlook.com\"]\n",
    "    return f\"{name.lower().replace(' ', '.')}{random.randint(100, 999)}@{random.choice(domains)}\"\n"
   ]
  },
  {
   "cell_type": "code",
   "execution_count": 8,
   "id": "45108458",
   "metadata": {},
   "outputs": [
    {
     "name": "stdout",
     "output_type": "stream",
     "text": [
      "   user_id           name  age       city subscription_plan signup_date  \\\n",
      "0        1    Emma Pandit   32   Bradford           Premium  2023-08-26   \n",
      "1        2   Anand Sesmic   58  Liverpool           Premium  2023-12-29   \n",
      "2        3  Fiona Jackson   59    Norwich           Premium  2023-08-18   \n",
      "3        4  David Johnson   62  Liverpool             Basic  2023-11-28   \n",
      "4        5      Devi Grey   19    Norwich          Standard  2023-07-24   \n",
      "\n",
      "                          email   phone_number  \n",
      "0      emma.pandit994@gmail.com  +447169645815  \n",
      "1   anand.sesmic135@hotmail.com  +447935700604  \n",
      "2  fiona.jackson213@outlook.com  +447506536077  \n",
      "3    david.johnson433@gmail.com  +447049774709  \n",
      "4        devi.grey926@yahoo.com  +447100246985  \n"
     ]
    }
   ],
   "source": [
    "# 1. Generate Users Table (8 columns)\n",
    "\n",
    "# Generate data for each user\n",
    "user_ids= list(range(1, n_users + 1))  # Primary Key\n",
    "ages= np.random.randint(18, 70, n_users) # Ratio Data\n",
    "cities= np.random.choice(cities_list, n_users) # Nominal Data\n",
    "subs_plans= np.random.choice(subscription_plans, n_users, p=subscription_weights)  # Ordinal Data\n",
    "signup_dates= [random_date_2023() for _ in range(n_users)]  # Interval Data\n",
    "emails= [random_email(name) if random.random() > 0.05 else None for name in names_data]  # 5% Missing Data\n",
    "phone_numbers= [f\"+44{random.randint(7000000000, 7999999999)}\" for _ in range(n_users)]  # Nominal Data\n",
    "\n",
    "users_df = pd.DataFrame({\n",
    "    'user_id': user_ids,  # Primary Key\n",
    "    'name': names_data,  # Nominal Data\n",
    "    'age': ages,  # Ratio Data\n",
    "    'city': cities,  # Nominal Data\n",
    "    'subscription_plan': subs_plans,  # Ordinal Data\n",
    "    'signup_date': signup_dates,  # Interval Data\n",
    "    'email':  emails,  # 5% Missing Data\n",
    "    'phone_number': phone_numbers # Nominal data\n",
    "})\n",
    "\n",
    "# Generating missing data: 5% missing in 'phone' \n",
    "users_df.loc[np.random.choice(users_df.index, size=int(0.05 * n_users), replace=False), 'phone_number'] = np.nan\n",
    "\n",
    "\n",
    "print(users_df.head())"
   ]
  },
  {
   "cell_type": "code",
   "execution_count": 10,
   "id": "5e1d20e5",
   "metadata": {},
   "outputs": [
    {
     "name": "stdout",
     "output_type": "stream",
     "text": [
      "   plan_id plan_name  monthly_cost  data_limit_GB  speed_mbps  \\\n",
      "0        1     Basic          9.99             10          20   \n",
      "1        2  Standard         19.99             50          50   \n",
      "2        3   Premium         29.99            100         100   \n",
      "\n",
      "   contract_length_months                       features  \n",
      "0                      12      Limited Calls, No Roaming  \n",
      "1                      18  Unlimited Calls, Some Roaming  \n",
      "2                      24           Unlimited Everything  \n"
     ]
    }
   ],
   "source": [
    "# 2. Create Plans Table\n",
    "plan_ids= list(range(1, 4)) # primary key\n",
    "monthly_costs= [plan_details[plan][\"monthly_cost\"] for plan in subscription_plans]  # Ratio Data\n",
    "data_limit_GBs= [plan_details[plan][\"data_limit_GB\"] for plan in subscription_plans]  # Ratio Data\n",
    "speed_mbp= [plan_details[plan][\"speed_mbps\"] for plan in subscription_plans]  # Ratio Data\n",
    "contract_length_month= [plan_details[plan][\"contract_length_months\"] for plan in subscription_plans]  # Ordinal Data\n",
    "\n",
    "\n",
    "\n",
    "plans_df = pd.DataFrame({\n",
    "    'plan_id': plan_ids,  # Primary Key\n",
    "    'plan_name': subscription_plans,  # Nominal\n",
    "    'monthly_cost': monthly_costs,  # Ratio\n",
    "    'data_limit_GB': data_limit_GBs,  # Ratio\n",
    "    'speed_mbps': speed_mbp,  # Ratio\n",
    "    'contract_length_months': contract_length_month,  # Ordinal\n",
    "    'features': plan_features  # Nominal\n",
    "})\n",
    "\n",
    "print(plans_df.head())\n"
   ]
  },
  {
   "cell_type": "code",
   "execution_count": 12,
   "id": "ad8b198c",
   "metadata": {},
   "outputs": [
    {
     "name": "stdout",
     "output_type": "stream",
     "text": [
      "   usage_id  user_id        date  data_used_GB  call_minutes  sms_count  \\\n",
      "0         1      853  2023-09-22          0.96            20        252   \n",
      "1         2      415  2023-08-02         25.12             5        211   \n",
      "2         3      525  2023-04-11         37.46           723        116   \n",
      "3         4      172  2023-03-11         42.61           889        174   \n",
      "4         5      575  2023-04-02         16.83           740         54   \n",
      "\n",
      "   roaming_data_GB  overage_fee  \n",
      "0             1.97         0.18  \n",
      "1             4.31         1.80  \n",
      "2             4.90         0.46  \n",
      "3             2.71         8.11  \n",
      "4             4.59         9.15  \n"
     ]
    }
   ],
   "source": [
    "#3. Generate Usage Table\n",
    "usage_ids= list(range(1, n_usage + 1)) # Primary Key\n",
    "\n",
    "# Randomly assign each usage record to a user (foreign key from Users)\n",
    "usage_user_id= np.random.randint(1, n_users + 1, n_usage) \n",
    "\n",
    "dates= [random_date_2023() for _ in range(n_usage)]  # Interval\n",
    "data_used_GBs= np.round(np.random.uniform(0.1, 50, n_usage), 2)  # Ratio\n",
    "call_minute= np.random.randint(0, 1000, n_usage)  # Ratio\n",
    "sms_counts= np.random.randint(0, 300, n_usage)  # Ratio\n",
    "roaming_data_GBs= [round(random.uniform(0, 5), 2) if random.random() > 0.1 else None for _ in range(n_usage)]  # Ratio with missing values\n",
    "overage_fees= np.round(np.random.uniform(0, 15, n_usage), 2)  # Ratio\n",
    "\n",
    "usage_df = pd.DataFrame({\n",
    "    'usage_id': usage_ids,  # Primary Key\n",
    "    'user_id': usage_user_id,  # Foreign Key\n",
    "    'date': dates,  # Interval\n",
    "    'data_used_GB': data_used_GBs,  # Ratio\n",
    "    'call_minutes': call_minute,  # Ratio\n",
    "    'sms_count': sms_counts,  # Ratio\n",
    "    'roaming_data_GB': roaming_data_GBs,  # Ratio with missing values\n",
    "    'overage_fee': overage_fees  # Ratio\n",
    "})\n",
    "\n",
    "print(usage_df.head())"
   ]
  },
  {
   "cell_type": "code",
   "execution_count": 14,
   "id": "be5c5213",
   "metadata": {},
   "outputs": [
    {
     "name": "stdout",
     "output_type": "stream",
     "text": [
      "   invoice_id  user_id billing_date  amount_due  amount_paid payment_status  \\\n",
      "0           1      293   2023-06-21       38.76        26.25        Pending   \n",
      "1           2      779   2023-11-05       20.63        30.39           Paid   \n",
      "2           3      460   2023-10-31       15.54         9.28           Paid   \n",
      "3           4      257   2023-03-06       32.29         3.54        Pending   \n",
      "4           5       24   2023-01-30       15.20        24.66        Overdue   \n",
      "\n",
      "  payment_method  late_fee  \n",
      "0  Bank Transfer       NaN  \n",
      "1    Credit Card       NaN  \n",
      "2         PayPal       NaN  \n",
      "3    Credit Card       NaN  \n",
      "4  Bank Transfer       NaN  \n"
     ]
    }
   ],
   "source": [
    "# 4. Generate Billing Table\n",
    "\n",
    "# For simplicity, generate one billing record per user.\n",
    "billing_invoice_ids = list(range(1, n_bills + 1)) #Primary Key\n",
    "billing_user_ids = np.random.randint(1, n_users + 1, n_bills) #foreign key\n",
    "billing_dates = [random_date_2023() for _ in range(n_bills)] #Interval\n",
    "\n",
    "\n",
    "# Calculate amount due for each user based on their subscription plan\n",
    "amount_dues = np.round(np.random.uniform(10, 50, n_bills), 2) #Ratio\n",
    "# Simulate payment: 80% of the invoices are fully paid; 20% remain unpaid (amount_paid = 0)\n",
    "amount_paids =  np.round(np.random.uniform(0, 50, n_bills), 2) #Ratio\n",
    "payment_statuses = np.random.choice(payment_status_list, n_bills, p=[0.7, 0.2, 0.1])  #Nominal\n",
    "payment_methods= np.random.choice(payment_methods_list, n_bills)  # Nominal\n",
    "late_fees= [round(random.uniform(0, 10), 2) if random.random() > 0.9 else None for _ in range(n_bills)]  # Ratio with missing values\n",
    "\n",
    "#billing dataframe\n",
    "billing_df = pd.DataFrame({\n",
    "    'invoice_id': billing_invoice_ids, # Primary Key\n",
    "    'user_id': billing_user_ids, # Foreign Key\n",
    "    'billing_date': billing_dates, #Interval data\n",
    "    'amount_due': amount_dues, # Ratio data\n",
    "    'amount_paid': amount_paids, # Ratio data\n",
    "    'payment_status': payment_statuses, # Nominal data\n",
    "    'payment_method': payment_methods,  # Nominal Data\n",
    "    'late_fee': late_fees  # Missing Data\n",
    "})\n",
    "\n",
    "print(billing_df.head())"
   ]
  },
  {
   "cell_type": "code",
   "execution_count": 29,
   "id": "144891f5",
   "metadata": {},
   "outputs": [],
   "source": [
    "\n",
    "# Save DataFrames to CSV\n",
    "\n",
    "users_df.to_csv('users_table.csv', index=False)\n",
    "plans_df.to_csv('plans_table.csv', index=False)\n",
    "usage_df.to_csv('usage_table.csv', index=False)\n",
    "billing_df.to_csv('billing_table.csv', index=False)\n"
   ]
  },
  {
   "cell_type": "code",
   "execution_count": null,
   "id": "2822b3eb",
   "metadata": {},
   "outputs": [],
   "source": []
  },
  {
   "cell_type": "code",
   "execution_count": null,
   "id": "c63ea5f8-f38e-4d9a-9645-d183686106b2",
   "metadata": {},
   "outputs": [],
   "source": []
  }
 ],
 "metadata": {
  "kernelspec": {
   "display_name": "Python 3 (ipykernel)",
   "language": "python",
   "name": "python3"
  },
  "language_info": {
   "codemirror_mode": {
    "name": "ipython",
    "version": 3
   },
   "file_extension": ".py",
   "mimetype": "text/x-python",
   "name": "python",
   "nbconvert_exporter": "python",
   "pygments_lexer": "ipython3",
   "version": "3.12.7"
  }
 },
 "nbformat": 4,
 "nbformat_minor": 5
}
